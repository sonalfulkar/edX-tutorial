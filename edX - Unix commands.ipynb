{
 "cells": [
  {
   "cell_type": "markdown",
   "metadata": {},
   "source": [
    "cat samples.txt # read the file"
   ]
  },
  {
   "cell_type": "markdown",
   "metadata": {},
   "source": [
    "Assume you have a large text file names samples.txt\n",
    "- how to get word counts of this file, sort them and find top 15 entries and save them in file count_of_words\n",
    "command: sed -e 's/ /\\'$'\\n/g' < samples.txt | sort | sed '/^$/d' | uniq -c | sort -nr | head 15 > count_of_words"
   ]
  },
  {
   "cell_type": "markdown",
   "metadata": {},
   "source": [
    "head to get top rows, tail to get last rows"
   ]
  },
  {
   "cell_type": "markdown",
   "metadata": {},
   "source": [
    "PLOT a graph using UNIX gunplot using our file - count_of_words\n",
    "\n",
    "set term png\n",
    "set output 'word-counts.png'\n",
    "set boxwidth 1 relative\n",
    "set style data histograms\n",
    "set style fill solid 1.0 border -1\n",
    "plot [][0:] \"count_of_words\" using 1:xticlabels(2)"
   ]
  },
  {
   "cell_type": "code",
   "execution_count": null,
   "metadata": {},
   "outputs": [],
   "source": [
    "# Unix shells in Jupyter - add exclamation to run unix commands\n",
    "!ls ./unix # list dir and files in unix folder\n",
    "\n",
    "# print filename\n",
    "filename = 'samples.txt'\n",
    "!echo $filename\n",
    "print(filename)\n",
    "\n",
    "# head - top 3 lines display\n",
    "!head -n 3 $filename\n",
    "\n",
    "# bottom 10 lines display\n",
    "!tail -n 10 $filename\n",
    "\n",
    "# word count - displays number of lines, number of words, number of chars\n",
    "!wc $filename\n",
    "\n",
    "# number of lines only\n",
    "!wc -l $filename\n",
    "\n",
    "# number of lines - other option\n",
    "!cat $filename | wc -l\n",
    "\n",
    "# grep: to search a string \"parchment\" in given file\n",
    "!grep -i 'parchment' $filename\n",
    "\n",
    "# output matching pattern one per line and then count number of lines\n",
    "!cat $filename | grep -o 'liberty' | wc -1\n",
    "\n",
    "# replace all instances of 'parchment' to 'manuscript'\n",
    "!sed -e 's/parchment/manuscript/g' $filename > temp.txt\n",
    "\n",
    "!grep -i 'manuscript' temp.txt\n",
    "\n",
    "#SORT\n",
    "!head -n 5 $filename\n",
    "\n",
    "!head -n 5 $filename\n",
    "\n",
    "!head -n 5 $filename | sort\n",
    "\n",
    "# columns separated by ' ', sort on column 2 (-k2), case insensitive (-f)\n",
    "!head -n 5 $filename | sort -f -t' ' -k2\n",
    "\n",
    "!sort $filename | wc -1 \n",
    "\n",
    "#unique command for getting unique records using -u option\n",
    "!sort $filename | uniq -u | wc -1\n",
    "\n",
    "# count most frequent words in the text in UNIX\n",
    "!sed -e 's/ /\\'$'\\n/g' < $filename | sort | uniq -c | sort -nr | head -15\n",
    "\n",
    "# head stops after 15 lines , hence 'sort' command is sending the last two 1\n",
    "!sed -e 's/ /\\'$'\\n/g' < $filename | sort | uniq -c | sort -nr | head -15 > count_vs_words\n",
    "\n",
    "!cat count_vs_words\n",
    "\n"
   ]
  }
 ],
 "metadata": {
  "kernelspec": {
   "display_name": "Python 3",
   "language": "python",
   "name": "python3"
  },
  "language_info": {
   "codemirror_mode": {
    "name": "ipython",
    "version": 3
   },
   "file_extension": ".py",
   "mimetype": "text/x-python",
   "name": "python",
   "nbconvert_exporter": "python",
   "pygments_lexer": "ipython3",
   "version": "3.7.3"
  }
 },
 "nbformat": 4,
 "nbformat_minor": 2
}
